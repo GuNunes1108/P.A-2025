{
  "nbformat": 4,
  "nbformat_minor": 0,
  "metadata": {
    "colab": {
      "provenance": [],
      "authorship_tag": "ABX9TyPKTJsOL4UEAhAu7YFQ0B6h",
      "include_colab_link": true
    },
    "kernelspec": {
      "name": "python3",
      "display_name": "Python 3"
    },
    "language_info": {
      "name": "python"
    }
  },
  "cells": [
    {
      "cell_type": "markdown",
      "metadata": {
        "id": "view-in-github",
        "colab_type": "text"
      },
      "source": [
        "<a href=\"https://colab.research.google.com/github/GuNunes1108/P.A-2025/blob/main/AulaDeOperadores.ipynb\" target=\"_parent\"><img src=\"https://colab.research.google.com/assets/colab-badge.svg\" alt=\"Open In Colab\"/></a>"
      ]
    },
    {
      "cell_type": "code",
      "execution_count": 4,
      "metadata": {
        "id": "wq92GsUhdwPt"
      },
      "outputs": [],
      "source": [
        "q = 2\n",
        "Area = q*q"
      ]
    },
    {
      "cell_type": "code",
      "source": [
        " print('a area do quadrado é',area)"
      ],
      "metadata": {
        "colab": {
          "base_uri": "https://localhost:8080/"
        },
        "id": "mSzsjg5Ze7tz",
        "outputId": "bed9f4ee-c488-4e72-844d-1eb970d84730"
      },
      "execution_count": 5,
      "outputs": [
        {
          "output_type": "stream",
          "name": "stdout",
          "text": [
            "a area do quadrado é 4\n"
          ]
        }
      ]
    },
    {
      "cell_type": "markdown",
      "source": [
        "# soma"
      ],
      "metadata": {
        "id": "edaZjIrHg6x6"
      }
    },
    {
      "cell_type": "code",
      "source": [
        "3 + 3"
      ],
      "metadata": {
        "colab": {
          "base_uri": "https://localhost:8080/"
        },
        "id": "pdV9KLyohE_p",
        "outputId": "f889beee-28b1-4d2b-93b9-4e5caff9dd70"
      },
      "execution_count": 6,
      "outputs": [
        {
          "output_type": "execute_result",
          "data": {
            "text/plain": [
              "6"
            ]
          },
          "metadata": {},
          "execution_count": 6
        }
      ]
    },
    {
      "cell_type": "markdown",
      "source": [
        "# subtração"
      ],
      "metadata": {
        "id": "8hfjp-GchMr6"
      }
    },
    {
      "cell_type": "code",
      "source": [
        "5 - 4"
      ],
      "metadata": {
        "colab": {
          "base_uri": "https://localhost:8080/"
        },
        "id": "o_AAZRB1hR9w",
        "outputId": "425b87cd-bfdd-4318-a88f-02a187698826"
      },
      "execution_count": 7,
      "outputs": [
        {
          "output_type": "execute_result",
          "data": {
            "text/plain": [
              "1"
            ]
          },
          "metadata": {},
          "execution_count": 7
        }
      ]
    },
    {
      "cell_type": "markdown",
      "source": [
        "# multiplicação"
      ],
      "metadata": {
        "id": "bPV1SrD3hat3"
      }
    },
    {
      "cell_type": "code",
      "source": [
        "564 * 9"
      ],
      "metadata": {
        "colab": {
          "base_uri": "https://localhost:8080/"
        },
        "id": "iKS299ZeheX4",
        "outputId": "97d123a5-f6cd-46fe-f90a-f9289b7f749e"
      },
      "execution_count": 10,
      "outputs": [
        {
          "output_type": "execute_result",
          "data": {
            "text/plain": [
              "5076"
            ]
          },
          "metadata": {},
          "execution_count": 10
        }
      ]
    },
    {
      "cell_type": "markdown",
      "source": [
        "# Divisão"
      ],
      "metadata": {
        "id": "th37MNj4hs1t"
      }
    },
    {
      "cell_type": "code",
      "source": [
        "364 / 3,14"
      ],
      "metadata": {
        "colab": {
          "base_uri": "https://localhost:8080/"
        },
        "id": "MdgeIx2mhvKM",
        "outputId": "bcb866ae-7e01-46ca-b7fa-c69ab771a85a"
      },
      "execution_count": 13,
      "outputs": [
        {
          "output_type": "execute_result",
          "data": {
            "text/plain": [
              "(121.33333333333333, 14)"
            ]
          },
          "metadata": {},
          "execution_count": 13
        }
      ]
    },
    {
      "cell_type": "markdown",
      "source": [
        "# igualdade"
      ],
      "metadata": {
        "id": "zO6xfuLWieM3"
      }
    },
    {
      "cell_type": "code",
      "source": [
        "a = 16\n",
        "a == 4*4"
      ],
      "metadata": {
        "colab": {
          "base_uri": "https://localhost:8080/"
        },
        "id": "C5nH0O2Sihho",
        "outputId": "41344b67-829f-4fbb-de29-5aa5f3b9cf02"
      },
      "execution_count": 24,
      "outputs": [
        {
          "output_type": "execute_result",
          "data": {
            "text/plain": [
              "True"
            ]
          },
          "metadata": {},
          "execution_count": 24
        }
      ]
    },
    {
      "cell_type": "markdown",
      "source": [
        "# exponente / potencia"
      ],
      "metadata": {
        "id": "J50xDbJjjYfS"
      }
    },
    {
      "cell_type": "code",
      "source": [
        "4**3"
      ],
      "metadata": {
        "colab": {
          "base_uri": "https://localhost:8080/"
        },
        "id": "C7EPHhdQjgeo",
        "outputId": "c3114f60-5521-4ebb-debe-acc39d80ff0e"
      },
      "execution_count": 26,
      "outputs": [
        {
          "output_type": "execute_result",
          "data": {
            "text/plain": [
              "64"
            ]
          },
          "metadata": {},
          "execution_count": 26
        }
      ]
    },
    {
      "cell_type": "markdown",
      "source": [
        "# maior,menor,maior ou igual, menor ou igual"
      ],
      "metadata": {
        "id": "Sr-nNSTej-i_"
      }
    },
    {
      "cell_type": "code",
      "source": [
        "5>2"
      ],
      "metadata": {
        "colab": {
          "base_uri": "https://localhost:8080/"
        },
        "id": "GU0JItm6kH47",
        "outputId": "c9d0bf8d-6804-432a-9505-8375e2bacf3c"
      },
      "execution_count": 34,
      "outputs": [
        {
          "output_type": "execute_result",
          "data": {
            "text/plain": [
              "True"
            ]
          },
          "metadata": {},
          "execution_count": 34
        }
      ]
    },
    {
      "cell_type": "code",
      "source": [
        "1>2"
      ],
      "metadata": {
        "colab": {
          "base_uri": "https://localhost:8080/"
        },
        "id": "NOqYHDTsk3zA",
        "outputId": "ad2425b2-785f-43a2-c108-11bb0042b607"
      },
      "execution_count": 36,
      "outputs": [
        {
          "output_type": "execute_result",
          "data": {
            "text/plain": [
              "False"
            ]
          },
          "metadata": {},
          "execution_count": 36
        }
      ]
    },
    {
      "cell_type": "code",
      "source": [
        "4<5"
      ],
      "metadata": {
        "colab": {
          "base_uri": "https://localhost:8080/"
        },
        "id": "N13y7-fwlWAf",
        "outputId": "f1e535d7-e380-47ea-d8cb-491aca5ea5ab"
      },
      "execution_count": 38,
      "outputs": [
        {
          "output_type": "execute_result",
          "data": {
            "text/plain": [
              "True"
            ]
          },
          "metadata": {},
          "execution_count": 38
        }
      ]
    },
    {
      "cell_type": "code",
      "source": [
        "7<5"
      ],
      "metadata": {
        "colab": {
          "base_uri": "https://localhost:8080/"
        },
        "id": "l_AIsMdllhyd",
        "outputId": "ca3fe6e3-020e-430b-cc1d-95c61ac10e11"
      },
      "execution_count": 39,
      "outputs": [
        {
          "output_type": "execute_result",
          "data": {
            "text/plain": [
              "False"
            ]
          },
          "metadata": {},
          "execution_count": 39
        }
      ]
    },
    {
      "cell_type": "code",
      "source": [
        "5>=5"
      ],
      "metadata": {
        "colab": {
          "base_uri": "https://localhost:8080/"
        },
        "id": "v4wkXRM6lm95",
        "outputId": "e8691afc-c511-4f61-dfc4-f0095f339a1b"
      },
      "execution_count": 40,
      "outputs": [
        {
          "output_type": "execute_result",
          "data": {
            "text/plain": [
              "True"
            ]
          },
          "metadata": {},
          "execution_count": 40
        }
      ]
    },
    {
      "cell_type": "code",
      "source": [
        "9876 <= 9876098765"
      ],
      "metadata": {
        "colab": {
          "base_uri": "https://localhost:8080/"
        },
        "id": "l7lj-Dlgl1W9",
        "outputId": "9b408271-ee4c-4d52-ab65-cb6c4b0a1413"
      },
      "execution_count": 44,
      "outputs": [
        {
          "output_type": "execute_result",
          "data": {
            "text/plain": [
              "True"
            ]
          },
          "metadata": {},
          "execution_count": 44
        }
      ]
    },
    {
      "cell_type": "markdown",
      "source": [
        "# variaveis"
      ],
      "metadata": {
        "id": "be2VX6kPnrUG"
      }
    },
    {
      "cell_type": "code",
      "source": [
        "nome = \"gusca\"\n",
        "sobrenome = \"gordo gordo\"\n",
        "print(\"meu nome é\",\" \",nome,\" \",sobrenome,\"!!\")"
      ],
      "metadata": {
        "colab": {
          "base_uri": "https://localhost:8080/"
        },
        "id": "9mqwce6XnxYO",
        "outputId": "edec2b5a-142a-4495-e1c2-7ee7a417fb49"
      },
      "execution_count": 55,
      "outputs": [
        {
          "output_type": "stream",
          "name": "stdout",
          "text": [
            "meu nome é   gusca   gordo gordo !!\n"
          ]
        }
      ]
    },
    {
      "cell_type": "code",
      "source": [
        "name = str(input(''))\n",
        "sobrename = str(input(''))\n",
        "print(\"seu nome e seu sobrenome é\",name,sobrename)"
      ],
      "metadata": {
        "colab": {
          "base_uri": "https://localhost:8080/"
        },
        "id": "zBEsEWJ-qyK1",
        "outputId": "0a03d85d-6968-409f-9e3e-6c820477468e"
      },
      "execution_count": 63,
      "outputs": [
        {
          "output_type": "stream",
          "name": "stdout",
          "text": [
            "gusca\n",
            "gordo\n",
            "seu nome e seu sobrenome é gusca gordo\n"
          ]
        }
      ]
    },
    {
      "cell_type": "code",
      "source": [
        "#para numeros inteiros é \"int\", para numeros quebrados é \"float\" e para letras e palavras é\"str\"\n",
        "\n",
        "# entrada\n",
        "lado = float(input(''))\n",
        "\n",
        "#processamento\n",
        "area = lado / 4,6\n",
        "\n",
        "#saida\n",
        "print(\"a area do quadrado é\", area)"
      ],
      "metadata": {
        "colab": {
          "base_uri": "https://localhost:8080/"
        },
        "id": "1YvU9i_dttx7",
        "outputId": "2057a5f0-82d2-49cd-c4e7-aca04ae9ed43"
      },
      "execution_count": 76,
      "outputs": [
        {
          "output_type": "stream",
          "name": "stdout",
          "text": [
            "14.8\n",
            "a area do quadrado é (3.7, 6)\n"
          ]
        }
      ]
    },
    {
      "cell_type": "markdown",
      "source": [],
      "metadata": {
        "id": "uGbd4DZ2nrSw"
      }
    }
  ]
}